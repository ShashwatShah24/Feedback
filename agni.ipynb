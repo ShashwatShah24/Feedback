{
 "cells": [
  {
   "cell_type": "code",
   "execution_count": 12,
   "metadata": {},
   "outputs": [],
   "source": [
    "import sqlite3  \n",
    "\n",
    "con = sqlite3.connect(\"feedback.db\")  \n",
    "con.row_factory = sqlite3.Row  \n",
    "cur = con.cursor()  \n",
    "cur.execute(\"SELECT * from tab01\")\n",
    "row=cur.fetchall()\n"
   ]
  },
  {
   "cell_type": "code",
   "execution_count": 13,
   "metadata": {},
   "outputs": [
    {
     "data": {
      "text/plain": [
       "[<sqlite3.Row at 0x21edb406c50>,\n",
       " <sqlite3.Row at 0x21edb406ab0>,\n",
       " <sqlite3.Row at 0x21edb406bd0>,\n",
       " <sqlite3.Row at 0x21edb308f90>,\n",
       " <sqlite3.Row at 0x21edb308e30>,\n",
       " <sqlite3.Row at 0x21edb406330>,\n",
       " <sqlite3.Row at 0x21edb308ef0>]"
      ]
     },
     "execution_count": 13,
     "metadata": {},
     "output_type": "execute_result"
    }
   ],
   "source": [
    "row"
   ]
  },
  {
   "cell_type": "code",
   "execution_count": 14,
   "metadata": {},
   "outputs": [
    {
     "name": "stdout",
     "output_type": "stream",
     "text": [
      "Shashwat Shah id10 A feed sms1999.shah@gmail.com ic \n",
      "Shashwat Shah id10 A feed sms1999.shah@gmail.com imc \n",
      "Shashwat Shah id10 A a sms1999.shah@gmail.com aa \n",
      "Shashwat Shah id10 A s sms1999.shah@gmail.com s \n",
      "Shashwat Shah id10 A sla sms1999.shah@gmail.com sa \n",
      "Shashwat Shah id10 A d sms1999.shah@gmail.com Shashwat Shah \n",
      "Shashwat Shah id10 A d sms1999.shah@gmail.com Shashwat Shah \n"
     ]
    }
   ],
   "source": [
    "for row in row:\n",
    "    for i in range(len(row)):\n",
    "        print(row[i],end=\" \")\n",
    "    print()\n",
    "\n"
   ]
  },
  {
   "cell_type": "code",
   "execution_count": 71,
   "metadata": {},
   "outputs": [
    {
     "name": "stdout",
     "output_type": "stream",
     "text": [
      "name\n"
     ]
    }
   ],
   "source": [
    "# colnames = cur.description\n",
    "# for row in colnames:\n",
    "#     print(row[0])"
   ]
  },
  {
   "cell_type": "code",
   "execution_count": 4,
   "metadata": {},
   "outputs": [
    {
     "data": {
      "text/plain": [
       "[<sqlite3.Row at 0x298670615f0>]"
      ]
     },
     "execution_count": 4,
     "metadata": {},
     "output_type": "execute_result"
    }
   ],
   "source": [
    "cur.execute(\"select * from Table01 \") \n",
    "row=cur.fetchall() \n",
    "row"
   ]
  },
  {
   "cell_type": "code",
   "execution_count": 2,
   "metadata": {},
   "outputs": [],
   "source": [
    "import sqlite3  \n",
    "\n",
    "con = sqlite3.connect(\"feedback.db.\")  \n",
    "con.row_factory = sqlite3.Row  \n",
    "cur = con.cursor()  "
   ]
  },
  {
   "cell_type": "code",
   "execution_count": 21,
   "metadata": {},
   "outputs": [
    {
     "data": {
      "text/plain": [
       "['Table01', 'sqlite_sequence', 'Table02']"
      ]
     },
     "execution_count": 21,
     "metadata": {},
     "output_type": "execute_result"
    }
   ],
   "source": [
    "tables=[]\n",
    "for Alltable in table:\n",
    "    for i in range(len(Alltable)):\n",
    "        tables.append(Alltable[i])\n",
    "tables"
   ]
  },
  {
   "cell_type": "code",
   "execution_count": 17,
   "metadata": {},
   "outputs": [],
   "source": [
    "tableLength=len(tables)"
   ]
  },
  {
   "cell_type": "code",
   "execution_count": 8,
   "metadata": {},
   "outputs": [
    {
     "data": {
      "text/plain": [
       "['id', 'Name', 'Password']"
      ]
     },
     "execution_count": 8,
     "metadata": {},
     "output_type": "execute_result"
    }
   ],
   "source": [
    "column=[]\n",
    "cur.execute(\"select * from {0}\".format(\"Table01\"))\n",
    "rows=cur.fetchall()\n",
    "colnames = cur.description\n",
    "for Allcolumns in colnames:\n",
    "    column.append(Allcolumns[0])\n",
    "column"
   ]
  },
  {
   "cell_type": "code",
   "execution_count": 11,
   "metadata": {},
   "outputs": [
    {
     "data": {
      "text/plain": [
       "3"
      ]
     },
     "execution_count": 11,
     "metadata": {},
     "output_type": "execute_result"
    }
   ],
   "source": [
    "columnlength=len(column)\n",
    "columnlength"
   ]
  },
  {
   "cell_type": "code",
   "execution_count": 10,
   "metadata": {},
   "outputs": [
    {
     "name": "stdout",
     "output_type": "stream",
     "text": [
      "1 Shah rajababu \n"
     ]
    }
   ],
   "source": [
    "\n",
    "for Allrow in rows:\n",
    "    for k in range(0,columnlength):\n",
    "        print(Allrow[k],end=\" \")\n",
    "    print()"
   ]
  },
  {
   "cell_type": "markdown",
   "metadata": {},
   "source": [
    "columnlength"
   ]
  },
  {
   "cell_type": "code",
   "execution_count": 14,
   "metadata": {},
   "outputs": [
    {
     "data": {
      "text/plain": [
       "0"
      ]
     },
     "execution_count": 14,
     "metadata": {},
     "output_type": "execute_result"
    }
   ],
   "source": [
    "columnlength"
   ]
  },
  {
   "cell_type": "code",
   "execution_count": 21,
   "metadata": {},
   "outputs": [
    {
     "name": "stdout",
     "output_type": "stream",
     "text": [
      "<sqlite3.Row object at 0x0000029867476570>\n"
     ]
    }
   ],
   "source": [
    "for row in rows:\n",
    "    print(row)"
   ]
  },
  {
   "cell_type": "code",
   "execution_count": 20,
   "metadata": {},
   "outputs": [
    {
     "name": "stdout",
     "output_type": "stream",
     "text": [
      "<sqlite3.Row object at 0x0000029867476570>\n"
     ]
    }
   ],
   "source": [
    "print(rows[0])"
   ]
  },
  {
   "cell_type": "code",
   "execution_count": null,
   "metadata": {},
   "outputs": [],
   "source": []
  }
 ],
 "metadata": {
  "kernelspec": {
   "display_name": "Python 3",
   "language": "python",
   "name": "python3"
  },
  "language_info": {
   "codemirror_mode": {
    "name": "ipython",
    "version": 3
   },
   "file_extension": ".py",
   "mimetype": "text/x-python",
   "name": "python",
   "nbconvert_exporter": "python",
   "pygments_lexer": "ipython3",
   "version": "3.7.3"
  }
 },
 "nbformat": 4,
 "nbformat_minor": 2
}
